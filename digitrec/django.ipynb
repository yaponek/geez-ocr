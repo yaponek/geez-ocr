{
 "cells": [
  {
   "cell_type": "code",
   "execution_count": null,
   "id": "9550c925",
   "metadata": {},
   "outputs": [],
   "source": [
    "!django-admin startproject digitrec"
   ]
  },
  {
   "cell_type": "code",
   "execution_count": 1,
   "id": "6948ecfa",
   "metadata": {},
   "outputs": [],
   "source": [
    "!python manage.py startapp digitrecapp"
   ]
  },
  {
   "cell_type": "code",
   "execution_count": 5,
   "id": "ffad7dcc",
   "metadata": {},
   "outputs": [
    {
     "name": "stderr",
     "output_type": "stream",
     "text": [
      "2022-02-20 16:12:59.398200: W tensorflow/stream_executor/platform/default/dso_loader.cc:64] Could not load dynamic library 'cudart64_110.dll'; dlerror: cudart64_110.dll not found\n",
      "2022-02-20 16:12:59.402426: I tensorflow/stream_executor/cuda/cudart_stub.cc:29] Ignore above cudart dlerror if you do not have a GPU set up on your machine.\n",
      "2022-02-20 16:13:21.004285: W tensorflow/stream_executor/platform/default/dso_loader.cc:64] Could not load dynamic library 'nvcuda.dll'; dlerror: nvcuda.dll not found\n",
      "2022-02-20 16:13:21.005777: W tensorflow/stream_executor/cuda/cuda_driver.cc:269] failed call to cuInit: UNKNOWN ERROR (303)\n",
      "2022-02-20 16:13:21.021911: I tensorflow/stream_executor/cuda/cuda_diagnostics.cc:169] retrieving CUDA diagnostic information for host: DESKTOP-QL099AK\n",
      "2022-02-20 16:13:21.029608: I tensorflow/stream_executor/cuda/cuda_diagnostics.cc:176] hostname: DESKTOP-QL099AK\n",
      "2022-02-20 16:13:21.032531: I tensorflow/core/platform/cpu_feature_guard.cc:142] This TensorFlow binary is optimized with oneAPI Deep Neural Network Library (oneDNN) to use the following CPU instructions in performance-critical operations:  AVX AVX2\n",
      "To enable them in other operations, rebuild TensorFlow with the appropriate compiler flags.\n",
      "Traceback (most recent call last):\n",
      "  File \"C:\\Users\\hlina\\#AI LAB\\geez-ocr\\digitrec\\manage.py\", line 22, in <module>\n",
      "    main()\n",
      "  File \"C:\\Users\\hlina\\#AI LAB\\geez-ocr\\digitrec\\manage.py\", line 18, in main\n",
      "    execute_from_command_line(sys.argv)\n",
      "  File \"C:\\ProgramData\\Anaconda3\\envs\\detection\\lib\\site-packages\\django\\core\\management\\__init__.py\", line 425, in execute_from_command_line\n",
      "    utility.execute()\n",
      "  File \"C:\\ProgramData\\Anaconda3\\envs\\detection\\lib\\site-packages\\django\\core\\management\\__init__.py\", line 419, in execute\n",
      "    self.fetch_command(subcommand).run_from_argv(self.argv)\n",
      "  File \"C:\\ProgramData\\Anaconda3\\envs\\detection\\lib\\site-packages\\django\\core\\management\\base.py\", line 373, in run_from_argv\n",
      "    self.execute(*args, **cmd_options)\n",
      "  File \"C:\\ProgramData\\Anaconda3\\envs\\detection\\lib\\site-packages\\django\\core\\management\\base.py\", line 412, in execute\n",
      "    self.check()\n",
      "  File \"C:\\ProgramData\\Anaconda3\\envs\\detection\\lib\\site-packages\\django\\core\\management\\base.py\", line 438, in check\n",
      "    all_issues = checks.run_checks(\n",
      "  File \"C:\\ProgramData\\Anaconda3\\envs\\detection\\lib\\site-packages\\django\\core\\checks\\registry.py\", line 77, in run_checks\n",
      "    new_errors = check(app_configs=app_configs, databases=databases)\n",
      "  File \"C:\\ProgramData\\Anaconda3\\envs\\detection\\lib\\site-packages\\django\\core\\checks\\urls.py\", line 13, in check_url_config\n",
      "    return check_resolver(resolver)\n",
      "  File \"C:\\ProgramData\\Anaconda3\\envs\\detection\\lib\\site-packages\\django\\core\\checks\\urls.py\", line 23, in check_resolver\n",
      "    return check_method()\n",
      "  File \"C:\\ProgramData\\Anaconda3\\envs\\detection\\lib\\site-packages\\django\\urls\\resolvers.py\", line 446, in check\n",
      "    for pattern in self.url_patterns:\n",
      "  File \"C:\\ProgramData\\Anaconda3\\envs\\detection\\lib\\site-packages\\django\\utils\\functional.py\", line 48, in __get__\n",
      "    res = instance.__dict__[self.name] = self.func(instance)\n",
      "  File \"C:\\ProgramData\\Anaconda3\\envs\\detection\\lib\\site-packages\\django\\urls\\resolvers.py\", line 632, in url_patterns\n",
      "    patterns = getattr(self.urlconf_module, \"urlpatterns\", self.urlconf_module)\n",
      "  File \"C:\\ProgramData\\Anaconda3\\envs\\detection\\lib\\site-packages\\django\\utils\\functional.py\", line 48, in __get__\n",
      "    res = instance.__dict__[self.name] = self.func(instance)\n",
      "  File \"C:\\ProgramData\\Anaconda3\\envs\\detection\\lib\\site-packages\\django\\urls\\resolvers.py\", line 625, in urlconf_module\n",
      "    return import_module(self.urlconf_name)\n",
      "  File \"C:\\ProgramData\\Anaconda3\\envs\\detection\\lib\\importlib\\__init__.py\", line 127, in import_module\n",
      "    return _bootstrap._gcd_import(name[level:], package, level)\n",
      "  File \"<frozen importlib._bootstrap>\", line 1030, in _gcd_import\n",
      "  File \"<frozen importlib._bootstrap>\", line 1007, in _find_and_load\n",
      "  File \"<frozen importlib._bootstrap>\", line 986, in _find_and_load_unlocked\n",
      "  File \"<frozen importlib._bootstrap>\", line 680, in _load_unlocked\n",
      "  File \"<frozen importlib._bootstrap_external>\", line 850, in exec_module\n",
      "  File \"<frozen importlib._bootstrap>\", line 228, in _call_with_frames_removed\n",
      "  File \"C:\\Users\\hlina\\#AI LAB\\geez-ocr\\digitrec\\digitrec\\urls.py\", line 21, in <module>\n",
      "    path('digit/', views.getimagefromrequest),\n",
      "NameError: name 'views' is not defined\n"
     ]
    }
   ],
   "source": [
    "!python manage.py makemigrations"
   ]
  },
  {
   "cell_type": "code",
   "execution_count": 3,
   "id": "53031e2e",
   "metadata": {},
   "outputs": [
    {
     "name": "stderr",
     "output_type": "stream",
     "text": [
      "Traceback (most recent call last):\n",
      "  File \"C:\\Users\\hlina\\#AI LAB\\geez-ocr\\digitrec\\manage.py\", line 22, in <module>\n",
      "    main()\n",
      "  File \"C:\\Users\\hlina\\#AI LAB\\geez-ocr\\digitrec\\manage.py\", line 18, in main\n",
      "    execute_from_command_line(sys.argv)\n",
      "  File \"C:\\ProgramData\\Anaconda3\\envs\\detection\\lib\\site-packages\\django\\core\\management\\__init__.py\", line 425, in execute_from_command_line\n",
      "    utility.execute()\n",
      "  File \"C:\\ProgramData\\Anaconda3\\envs\\detection\\lib\\site-packages\\django\\core\\management\\__init__.py\", line 369, in execute\n",
      "    settings.INSTALLED_APPS\n",
      "  File \"C:\\ProgramData\\Anaconda3\\envs\\detection\\lib\\site-packages\\django\\conf\\__init__.py\", line 84, in __getattr__\n",
      "    self._setup(name)\n",
      "  File \"C:\\ProgramData\\Anaconda3\\envs\\detection\\lib\\site-packages\\django\\conf\\__init__.py\", line 71, in _setup\n",
      "    self._wrapped = Settings(settings_module)\n",
      "  File \"C:\\ProgramData\\Anaconda3\\envs\\detection\\lib\\site-packages\\django\\conf\\__init__.py\", line 179, in __init__\n",
      "    mod = importlib.import_module(self.SETTINGS_MODULE)\n",
      "  File \"C:\\ProgramData\\Anaconda3\\envs\\detection\\lib\\importlib\\__init__.py\", line 127, in import_module\n",
      "    return _bootstrap._gcd_import(name[level:], package, level)\n",
      "  File \"<frozen importlib._bootstrap>\", line 1030, in _gcd_import\n",
      "  File \"<frozen importlib._bootstrap>\", line 1007, in _find_and_load\n",
      "  File \"<frozen importlib._bootstrap>\", line 986, in _find_and_load_unlocked\n",
      "  File \"<frozen importlib._bootstrap>\", line 680, in _load_unlocked\n",
      "  File \"<frozen importlib._bootstrap_external>\", line 850, in exec_module\n",
      "  File \"<frozen importlib._bootstrap>\", line 228, in _call_with_frames_removed\n",
      "  File \"C:\\Users\\hlina\\#AI LAB\\geez-ocr\\digitrec\\digitrec\\settings.py\", line 30, in <module>\n",
      "    MODELS = os.path.join(BASE_DIR, 'digitrecapp/models')\n",
      "NameError: name 'os' is not defined\n"
     ]
    }
   ],
   "source": [
    "!python manage.py migrate"
   ]
  },
  {
   "cell_type": "code",
   "execution_count": 6,
   "id": "890271bf",
   "metadata": {},
   "outputs": [
    {
     "name": "stdout",
     "output_type": "stream",
     "text": [
      "^C\n"
     ]
    }
   ],
   "source": [
    "\n",
    "!python manage.py runserver"
   ]
  },
  {
   "cell_type": "code",
   "execution_count": null,
   "id": "2cb4d610",
   "metadata": {},
   "outputs": [],
   "source": []
  }
 ],
 "metadata": {
  "kernelspec": {
   "display_name": "Python 3 (ipykernel)",
   "language": "python",
   "name": "python3"
  },
  "language_info": {
   "codemirror_mode": {
    "name": "ipython",
    "version": 3
   },
   "file_extension": ".py",
   "mimetype": "text/x-python",
   "name": "python",
   "nbconvert_exporter": "python",
   "pygments_lexer": "ipython3",
   "version": "3.9.6"
  }
 },
 "nbformat": 4,
 "nbformat_minor": 5
}
