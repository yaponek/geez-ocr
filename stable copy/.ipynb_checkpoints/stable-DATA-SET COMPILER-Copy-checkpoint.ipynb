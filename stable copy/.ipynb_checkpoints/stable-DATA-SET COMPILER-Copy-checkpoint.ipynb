{
 "cells": [
  {
   "cell_type": "markdown",
   "id": "dcaa6875",
   "metadata": {},
   "source": [
    "### The sane way of making compiling custome dataset for the geez-ocr"
   ]
  },
  {
   "cell_type": "code",
   "execution_count": 1,
   "id": "71869512",
   "metadata": {
    "scrolled": true
   },
   "outputs": [],
   "source": [
    "import os\n",
    "import glob\n",
    "import PIL\n",
    "import cv2\n",
    "import numpy as np\n",
    "from matplotlib import pyplot as plt\n",
    "from tqdm import tqdm\n",
    "import random\n",
    "import pathlib\n",
    "import shutil\n",
    "\n",
    "import tensorflow as tf\n",
    "from tensorflow import keras\n",
    "from tensorflow.keras import layers\n",
    "from tensorflow.keras.datasets import cifar10\n",
    "from tensorflow.keras.preprocessing.image import ImageDataGenerator\n",
    "from tensorflow.keras.models import Sequential\n",
    "from tensorflow.keras.layers import Dense, Dropout, Activation, Flatten\n",
    "from tensorflow.keras.layers import Conv2D, MaxPooling2D\n",
    "\n",
    "\n",
    "def view(img):\n",
    "    plt.imshow(img, cmap='gray')\n",
    "    plt.show()\n",
    "    \n",
    "def vShape(var):\n",
    "    print(var.shape)\n",
    "    \n",
    "def fidel(bet):\n",
    "    # this method sort and prepare the geez table for standard use from unicode\n",
    "    deqala1 = ['ቈ','ኈ','ኰ','ዀ','ጐ']\n",
    "    deqala2 = ['ሏ','ሗ','ሟ','ሧ','ሯ','ሷ','ሿ','ቊ','ቧ','ቯ',\n",
    "               'ቷ','ቿ','ኊ','ኗ','ኟ','ኧ','ኲ','ዂ','ዟ','ዧ',\n",
    "               'ዷ','ጇ','ጒ','ጧ','ጯ','ጷ','ጿ','ፏ','ፗ']\n",
    "    deqala3 =['ቋ','ኋ','ኳ','ዃ','ጓ']\n",
    "    deqala4 = ['ቌ','ኌ','ኴ','ዄ','ጔ']\n",
    "    deqala5 = ['ቍ','ኍ','ኵ','ዅ','ጕ']\n",
    "    \n",
    "    i=0;fidel = 4608;fideloch = []\n",
    "    if bet==1: fidel = 4608\n",
    "    elif bet==2: fidel = 4609\n",
    "    elif bet==3: fidel = 4610\n",
    "    elif bet==4: fidel = 4611\n",
    "    elif bet==5: fidel = 4612\n",
    "    elif bet==6: fidel = 4613\n",
    "    elif bet==7: fidel = 4614\n",
    "    elif bet==8: \n",
    "        for word in deqala1: fideloch.append(word)\n",
    "    elif bet==9: \n",
    "        for word in deqala2: fideloch.append(word)\n",
    "    elif bet==10: \n",
    "        for word in deqala3: fideloch.append(word)\n",
    "    elif bet==11: \n",
    "        for word in deqala4: fideloch.append(word)\n",
    "    elif bet==12: \n",
    "        for word in deqala5: fideloch.append(word)\n",
    "            \n",
    "    if bet < 8:\n",
    "        while i<34:\n",
    "            fideloch.append(chr(fidel))\n",
    "            if i==8: fidel = fidel+32\n",
    "            elif i==13 or i==17 or i==24: fidel = fidel+16\n",
    "            elif i==18: fidel = fidel+16\n",
    "            elif i==26: fidel = fidel+24\n",
    "            else: fidel = fidel+8\n",
    "            i=i+1\n",
    "    return fideloch\n",
    "\n",
    "def fidel_form(min_bet, max_bet):\n",
    "    # Declare a list variable witl all the geez laters in ot according to our form standard\n",
    "    fidels = []\n",
    "    for index in range(min_bet,max_bet):\n",
    "        fidels.append(fidel(index))\n",
    "    return fidels\n",
    "#flaten their content\n",
    "def flatten(l):\n",
    "    try:\n",
    "        return flatten(l[0]) + (flatten(l[1:]) if len(l) > 1 else []) if type(l) is list else [l]\n",
    "    except IndexError:\n",
    "        return []\n",
    "\n",
    "def fidel_id(fidel):\n",
    "    # declare the fidel form values\n",
    "    x = fidel_form(1, 13)\n",
    "    # flaten the array into one dimention to make it searchable\n",
    "    laters = flatten(x)\n",
    "    # seek the index and return\n",
    "    return laters.index(fidel)#+1\n",
    "\n",
    "def fidel_name(fidel_id):\n",
    "    # declare the fidel form values\n",
    "    x = fidel_form(1, 13)\n",
    "    # flaten the array into one dimention to make it searchable\n",
    "    laters = flatten(x)\n",
    "    # seek the value and return\n",
    "    return laters[fidel_id]#-1]\n",
    "\n",
    "def file_base_name(path):\n",
    "    return os.path.basename(path).replace('.', ' ')\n",
    "\n",
    "def rename_dataset(path_str):\n",
    "    base_name = file_base_name(path_str) \n",
    "    path_ext = pathlib.Path(path_str).suffix\n",
    "    numbers = [int(word) for word in base_name.split() if word.isdigit()]\n",
    "    return str(fidel_id(base_name[0]))+'_'+str(numbers[0])+path_ext\n",
    "    \n",
    "def populate_to_type(model_type):\n",
    "    # searching script\n",
    "    path1 = \"OCR_dataset\\\\\"+model_type+\"_form\\\\\"\n",
    "    path2 = \"OCR_dataset\\\\\"+model_type+\"\\\\\"\n",
    "    file_names = glob.glob(path1+\"*.png\")\n",
    "    try:\n",
    "        if file_names:\n",
    "            for path in file_names:\n",
    "                file_name = file_base_name(path)\n",
    "                directory = path2+str(fidel_id(file_name[0]))\n",
    "                if (os.path.isdir(directory)):\n",
    "                    shutil.copy(path,directory+'\\\\'+rename_dataset(path))\n",
    "                else:\n",
    "                    pathlib.Path(path2+str(fidel_id(file_name[0]))).mkdir(parents=True, exist_ok=True)\n",
    "                    shutil.copy(path,directory+'\\\\'+rename_dataset(path))\n",
    "    except NameError as e:\n",
    "        print(e)\n",
    "    print('populating compiled! dataset folder is Ready to use!')\n",
    "        \n",
    "\n",
    "# print(laters,len(laters),laters.index('ሀ'),laters[286])\n",
    "# fidel_name(287)\n",
    "# fidel_id('ሀ')"
   ]
  },
  {
   "cell_type": "code",
   "execution_count": 2,
   "id": "940c8dbd",
   "metadata": {},
   "outputs": [],
   "source": [
    "# populate all the files in the dataset folder to the train and test folder with proper name\n",
    "# populate_to_type('train')\n",
    "# populate_to_type('test')\n"
   ]
  },
  {
   "cell_type": "code",
   "execution_count": 3,
   "id": "54130572",
   "metadata": {},
   "outputs": [
    {
     "name": "stdout",
     "output_type": "stream",
     "text": [
      "test LOADING started!\n"
     ]
    },
    {
     "name": "stderr",
     "output_type": "stream",
     "text": [
      "100%|███████████████████████████████████████████████████████████████████████████████| 287/287 [00:02<00:00, 143.37it/s]\n"
     ]
    },
    {
     "name": "stdout",
     "output_type": "stream",
     "text": [
      "test LOADING End!\n",
      "train LOADING started!\n"
     ]
    },
    {
     "name": "stderr",
     "output_type": "stream",
     "text": [
      "100%|████████████████████████████████████████████████████████████████████████████████| 287/287 [00:10<00:00, 26.91it/s]"
     ]
    },
    {
     "name": "stdout",
     "output_type": "stream",
     "text": [
      "train LOADING End!\n"
     ]
    },
    {
     "name": "stderr",
     "output_type": "stream",
     "text": [
      "\n"
     ]
    }
   ],
   "source": [
    "paths = \"OCR_dataset/\"\n",
    "\n",
    "def create_x_data(pathx, type_var):\n",
    "    DATADIR = pathx+type_var\n",
    "    CATEGORIES = range(0, 287)\n",
    "    data = []\n",
    "    \n",
    "    print(type_var+' LOADING started!')\n",
    "    for category in tqdm(CATEGORIES):  # do calases\n",
    "        path = os.path.join(DATADIR,str(category))  # create path to clases\n",
    "        class_num = CATEGORIES.index(category)  # get the classification  (1 - 287).\n",
    "        \n",
    "        for img in os.listdir(path):  # iterate over each image per clases\n",
    "            try:\n",
    "                img_array = cv2.imread(os.path.join(path,img) ,cv2.IMREAD_GRAYSCALE)  # convert to array\n",
    "                new_array = cv2.resize(img_array, (25, 25))  # resize to normalize data size\n",
    "                data.append([new_array, class_num])  # add this to our training_data\n",
    "                #plt.imshow(img_array, cmap='gray')  # graph it\n",
    "                #print(os.path.join(path,img))\n",
    "                #plt.show()  # display!\n",
    "            except Exception as e:  # in the interest in keeping the output clean...\n",
    "                pass\n",
    "    print(type_var+' LOADING End!')\n",
    "    return data\n",
    "\n",
    "test_dataset = create_x_data(paths,'test')\n",
    "train_dataset = create_x_data(paths,'train')"
   ]
  },
  {
   "cell_type": "code",
   "execution_count": 4,
   "id": "97b7ed33",
   "metadata": {},
   "outputs": [
    {
     "name": "stdout",
     "output_type": "stream",
     "text": [
      "861\n",
      "7749\n"
     ]
    }
   ],
   "source": [
    "print(len(test_dataset))\n",
    "print(len(train_dataset))"
   ]
  },
  {
   "cell_type": "code",
   "execution_count": 40,
   "id": "e1f488cd",
   "metadata": {
    "scrolled": true
   },
   "outputs": [
    {
     "name": "stdout",
     "output_type": "stream",
     "text": [
      "[[254 254 254 254 254 253 254 254 254 255 254 254 254 254 254 254 254 255\n",
      "  254 254 253 253 254 254 254]\n",
      " [254 255 254 254 254 254 254 254 254 255 254 254 254 253 254 254 254 255\n",
      "  253 254 254 254 254 254 254]\n",
      " [254 255 255 254 254 254 254 254 254 254 254 253 251 252 254 254 254 254\n",
      "  253 253 254 254 254 254 255]\n",
      " [254 254 254 253 253 252 253 253 253 253 253 251 252 253 255 253 253 253\n",
      "  254 253 253 254 254 254 254]\n",
      " [254 254 255 255 253 253 253 253 254 255 254 253 252 253 253 252 252 253\n",
      "  254 254 253 253 253 254 254]\n",
      " [254 253 254 253 255 255 255 249 247 253 255 255 252 251 250 250 250 250\n",
      "  251 253 254 253 252 252 254]\n",
      " [254 254 251 253 254 251 238 205 171 179 225 253 254 251 252 252 252 252\n",
      "  251 255 255 254 253 251 253]\n",
      " [254 252 252 255 244 196 180 179 150 129 146 210 252 253 250 247 248 252\n",
      "  255 247 238 249 254 252 253]\n",
      " [254 249 255 242 182 165 197 226 237 188 100 145 234 240 220 199 189 216\n",
      "  231 165 169 238 255 253 253]\n",
      " [254 253 247 183 157 215 248 252 252 178  89 140 212 223 219 199 169 181\n",
      "  167 100 126 229 254 252 254]\n",
      " [254 255 213 142 204 252 255 236 191 122  98 186 231 240 249 232 169 180\n",
      "  173 156 141 218 253 252 252]\n",
      " [254 255 193 161 234 254 255 232 179 145 130 220 252 253 255 223 137 202\n",
      "  239 224 153 213 252 252 252]\n",
      " [254 251 185 172 242 255 253 215 209 197 146 221 253 250 255 207 146 222\n",
      "  255 228 140 210 252 249 252]\n",
      " [254 255 198 154 217 245 212 168 231 223 148 217 251 251 247 182 178 239\n",
      "  255 209 113 202 253 251 252]\n",
      " [254 255 239 185 169 181 180 195 251 215 146 220 253 255 234 153 193 251\n",
      "  255 177  87 200 253 252 252]\n",
      " [254 251 255 243 195 183 218 248 255 196 146 224 254 255 224 138 201 253\n",
      "  253 136  79 208 253 251 252]\n",
      " [254 249 250 254 248 244 253 255 251 183 161 232 253 255 214 130 212 254\n",
      "  242  96 101 227 252 251 253]\n",
      " [254 251 250 252 255 254 253 255 236 163 181 243 254 255 209 121 212 254\n",
      "  192  81 168 250 253 253 254]\n",
      " [254 253 252 253 253 249 248 255 221 135 200 252 254 255 220 124 181 209\n",
      "  132 145 237 255 251 253 253]\n",
      " [254 250 255 253 240 245 249 254 192 125 219 254 252 254 244 186 169 177\n",
      "  173 233 254 252 252 251 252]\n",
      " [255 251 253 225 207 240 246 210 147 171 242 253 251 252 255 248 227 228\n",
      "  245 255 253 251 251 251 252]\n",
      " [254 255 232 163 186 211 180 151 172 238 255 251 251 251 253 255 255 255\n",
      "  254 253 253 253 252 253 254]\n",
      " [255 250 192 124 163 185 170 196 243 253 253 253 251 251 252 252 253 253\n",
      "  252 252 253 253 253 254 254]\n",
      " [255 205 144 158 187 222 242 250 254 251 252 253 252 252 252 253 253 253\n",
      "  253 253 253 254 254 254 254]\n",
      " [255 202 173 226 246 252 253 252 252 252 252 252 253 253 253 254 255 254\n",
      "  254 254 254 254 254 254 255]]\n"
     ]
    }
   ],
   "source": [
    "#look at the array of a single image from the dataset\n",
    "print(test_dataset[0][0])"
   ]
  },
  {
   "cell_type": "code",
   "execution_count": 41,
   "id": "1c31393b",
   "metadata": {},
   "outputs": [
    {
     "name": "stdout",
     "output_type": "stream",
     "text": [
      "(25, 25)\n"
     ]
    }
   ],
   "source": [
    "#look at the shape of single image from the dataset to see if it's single channel\n",
    "vShape(test_dataset[0][0])"
   ]
  },
  {
   "cell_type": "code",
   "execution_count": 42,
   "id": "1b3e104c",
   "metadata": {},
   "outputs": [
    {
     "data": {
      "image/png": "[encoded data removed]",
      "text/plain": [
       "<Figure size 432x288 with 1 Axes>"
      ]
     },
     "metadata": {
      "needs_background": "light"
     },
     "output_type": "display_data"
    }
   ],
   "source": [
    "def resize(IMG, IMG_SIZE):\n",
    "    return cv2.resize(IMG, (IMG_SIZE, IMG_SIZE))\n",
    "\n",
    "def shufle_dataset(dataset):\n",
    "    random.shuffle(dataset)\n",
    "    \n",
    "# shufle both dataset\n",
    "shufle_dataset(train_dataset)\n",
    "shufle_dataset(test_dataset)\n",
    "\n",
    "# view the selectes sample image\n",
    "view(resize(train_dataset[0][0],25))"
   ]
  },
  {
   "cell_type": "code",
   "execution_count": 43,
   "id": "a09798d2",
   "metadata": {},
   "outputs": [
    {
     "name": "stdout",
     "output_type": "stream",
     "text": [
      "train dataset sample\n",
      "\n",
      "260\n",
      "193\n",
      "50\n",
      "152\n",
      "85\n",
      "55\n",
      "122\n",
      "159\n",
      "154\n",
      "231\n",
      "\n",
      "\n",
      "test dataset sample\n",
      "\n",
      "272\n",
      "80\n",
      "238\n",
      "149\n",
      "263\n",
      "177\n",
      "127\n",
      "259\n",
      "71\n",
      "16\n"
     ]
    }
   ],
   "source": [
    "def view_sample(dataset, limit):\n",
    "    for sample in dataset[:limit]:\n",
    "        print(sample[1])\n",
    "        \n",
    "# show samole of the shufled dataset's\n",
    "print('train dataset sample\\n')\n",
    "view_sample(train_dataset, 10)\n",
    "print('\\n\\ntest dataset sample\\n')\n",
    "view_sample(test_dataset, 10)"
   ]
  },
  {
   "cell_type": "code",
   "execution_count": 44,
   "id": "3562100a",
   "metadata": {},
   "outputs": [
    {
     "name": "stdout",
     "output_type": "stream",
     "text": [
      "\n",
      "Training image sample\n",
      " Lable:  ጮ\n"
     ]
    },
    {
     "data": {
      "image/png": "[encoded data removed]",
      "text/plain": [
       "<Figure size 432x288 with 1 Axes>"
      ]
     },
     "metadata": {
      "needs_background": "light"
     },
     "output_type": "display_data"
    },
    {
     "name": "stdout",
     "output_type": "stream",
     "text": [
      "\n",
      "Testing image sample\n",
      " Lable:  ሶ\n"
     ]
    },
    {
     "data": {
      "image/png": "[encoded data removed]",
      "text/plain": [
       "<Figure size 432x288 with 1 Axes>"
      ]
     },
     "metadata": {
      "needs_background": "light"
     },
     "output_type": "display_data"
    }
   ],
   "source": [
    "def split_img_and_label(dataset):\n",
    "    img = []\n",
    "    lable = []\n",
    "    for features,label in dataset:\n",
    "        img.append(features)\n",
    "        lable.append(label)\n",
    "    return img, lable\n",
    "\n",
    "\n",
    "training_img, training_lable = split_img_and_label(train_dataset)\n",
    "testing_img, testing_lable = split_img_and_label(test_dataset)\n",
    "\n",
    "# index of sample selector\n",
    "IMG_INDEX = 50\n",
    "    \n",
    "print('\\nTraining image sample\\n','Lable: ',fidel_name(training_lable[IMG_INDEX]))\n",
    "view(training_img[IMG_INDEX])\n",
    "    \n",
    "print('\\nTesting image sample\\n','Lable: ',fidel_name(testing_lable[IMG_INDEX]))\n",
    "view(testing_img[IMG_INDEX])"
   ]
  },
  {
   "cell_type": "code",
   "execution_count": 45,
   "id": "d2c3f302",
   "metadata": {},
   "outputs": [
    {
     "name": "stdout",
     "output_type": "stream",
     "text": [
      "Total amount of Training image:  7749 Total amount of Training Lable:  7749\n",
      "Total amount of Testing image:  861 Total amount of Testing Lable:  861\n"
     ]
    }
   ],
   "source": [
    "print('Total amount of Training image: ',len(training_img[:]),'Total amount of Training Lable: ',len(training_lable[:]))\n",
    "print('Total amount of Testing image: ',len(testing_img),'Total amount of Testing Lable: ',len(testing_lable))"
   ]
  },
  {
   "cell_type": "code",
   "execution_count": 46,
   "id": "e34f4c54",
   "metadata": {},
   "outputs": [],
   "source": [
    "def views(image,label):\n",
    "    print(fidel_name(label))\n",
    "    plt.imshow(image)\n",
    "    plt.show()"
   ]
  },
  {
   "cell_type": "code",
   "execution_count": 47,
   "id": "b7af0e4b",
   "metadata": {},
   "outputs": [
    {
     "name": "stdout",
     "output_type": "stream",
     "text": [
      "ዂ\n"
     ]
    },
    {
     "data": {
      "image/png": "[encoded data removed]",
      "text/plain": [
       "<Figure size 432x288 with 1 Axes>"
      ]
     },
     "metadata": {
      "needs_background": "light"
     },
     "output_type": "display_data"
    }
   ],
   "source": [
    "# (train_images, train_labels), (test_images, test_labels) = tf.keras.datasets.mnist.load_data()\n",
    "\n",
    "train_labels = training_lable[:]\n",
    "test_labels = testing_lable[:]\n",
    "\n",
    "views(training_img[0],train_labels[0])\n",
    "\n",
    "# print(vShape(training_img[1]))\n",
    "\n",
    "# train_images = training_img[:3444].reshape(-1, 25 * 25) / 255.0\n",
    "# test_images = testing_img[:574].reshape(-1, 28 * 28) / 255.0\n",
    "\n",
    "training_img = np.array(training_img[:]).reshape(-1, 25* 25) / 255.0\n",
    "testing_img = np.array(testing_img[:]).reshape(-1, 25* 25) / 255.0"
   ]
  },
  {
   "cell_type": "code",
   "execution_count": 48,
   "id": "54d53e9f",
   "metadata": {},
   "outputs": [
    {
     "name": "stdout",
     "output_type": "stream",
     "text": [
      "7749\n",
      "55\n",
      "ዙ\n"
     ]
    },
    {
     "data": {
      "image/png": "[encoded data removed]",
      "text/plain": [
       "<Figure size 432x288 with 1 Axes>"
      ]
     },
     "metadata": {
      "needs_background": "light"
     },
     "output_type": "display_data"
    }
   ],
   "source": [
    "print(len(training_img))\n",
    "# print(training_img[0],'\\n')\n",
    "# print(training_img)\n",
    "index = 5\n",
    "print(train_labels[index])\n",
    "print(fidel_name(train_labels[index]))\n",
    "x = training_img[index]*255\n",
    "view(np.array(x).reshape(25, 25))"
   ]
  },
  {
   "cell_type": "code",
   "execution_count": 53,
   "id": "ab40fc20",
   "metadata": {},
   "outputs": [
    {
     "name": "stdout",
     "output_type": "stream",
     "text": [
      "Model: \"sequential_6\"\n",
      "_________________________________________________________________\n",
      "Layer (type)                 Output Shape              Param #   \n",
      "=================================================================\n",
      "dense_18 (Dense)             (None, 1600)              1001600   \n",
      "_________________________________________________________________\n",
      "dense_19 (Dense)             (None, 3200)              5123200   \n",
      "_________________________________________________________________\n",
      "dense_20 (Dense)             (None, 287)               918687    \n",
      "=================================================================\n",
      "Total params: 7,043,487\n",
      "Trainable params: 7,043,487\n",
      "Non-trainable params: 0\n",
      "_________________________________________________________________\n"
     ]
    }
   ],
   "source": [
    "# Define a simple sequential model\n",
    "def create_model():\n",
    "    model = tf.keras.models.Sequential([\n",
    "        keras.layers.Dense(1600, input_shape=(625,), activation='relu'),\n",
    "        keras.layers.Dense(3200, activation='relu'),\n",
    "        keras.layers.Dense(287, activation = 'softmax')\n",
    "    ])\n",
    "    \n",
    "    model.compile(optimizer=tf.keras.optimizers.Adam(learning_rate=0.0001),\n",
    "                  loss='sparse_categorical_crossentropy', metrics=['accuracy'])\n",
    "    return model\n",
    "\n",
    "# Create a basic model instance\n",
    "model = create_model()\n",
    "\n",
    "# Display the model's architecture\n",
    "model.summary()\n"
   ]
  },
  {
   "cell_type": "code",
   "execution_count": 54,
   "id": "729222e8",
   "metadata": {},
   "outputs": [
    {
     "name": "stdout",
     "output_type": "stream",
     "text": [
      "Epoch 1/3\n",
      "70/70 [==============================] - 31s 401ms/step - loss: 5.7227 - accuracy: 0.0026 - val_loss: 5.6975 - val_accuracy: 0.0000e+00\n",
      "Epoch 2/3\n",
      "70/70 [==============================] - 29s 408ms/step - loss: 5.6676 - accuracy: 0.0034 - val_loss: 5.6789 - val_accuracy: 0.0013\n",
      "Epoch 3/3\n",
      "70/70 [==============================] - 26s 372ms/step - loss: 5.6471 - accuracy: 0.0060 - val_loss: 5.6732 - val_accuracy: 0.0026\n"
     ]
    },
    {
     "data": {
      "text/plain": [
       "<keras.callbacks.History at 0x17cd0123040>"
      ]
     },
     "execution_count": 54,
     "metadata": {},
     "output_type": "execute_result"
    }
   ],
   "source": [
    "checkpoint_path = \"training_1/cp.ckpt\"\n",
    "checkpoint_dir = os.path.dirname(checkpoint_path)\n",
    "\n",
    "# Create a callback that saves the model's weights\n",
    "cp_callback = tf.keras.callbacks.ModelCheckpoint(filepath=checkpoint_path,\n",
    "                                                 save_weights_only=True,\n",
    "                                                 verbose=1)\n",
    "training_img = np.array(training_img)\n",
    "train_labels = np.array(train_labels)\n",
    "testing_img = np.array(testing_img)\n",
    "test_labels = np.array(test_labels)\n",
    "\n",
    "\n",
    "# index = 5\n",
    "# print(test_labels[index])\n",
    "# print(fidel_name(test_labels[index]))\n",
    "# x = testing_img[index]*255\n",
    "# view(np.array(x).reshape(25, 25))\n",
    "\n",
    "\n",
    "# Train the model with the new callback\n",
    "model.fit(training_img, \n",
    "          train_labels,  \n",
    "          epochs=5,\n",
    "          validation_split=0.1,\n",
    "          batch_size = 100,\n",
    "          shuffle=True)  # Pass callback to training\n",
    "\n",
    "# model.fit(training_img, \n",
    "#           train_labels,  \n",
    "#           epochs=3,\n",
    "#           validation_data=(testing_img, test_labels),\n",
    "#           callbacks=[cp_callback])  # Pass callback to training\n",
    "\n",
    "# This may generate warnings related to saving the state of the optimizer.\n",
    "# These warnings (and similar warnings throughout this notebook)\n",
    "# are in place to discourage outdated usage, and can be ignored."
   ]
  },
  {
   "cell_type": "code",
   "execution_count": 55,
   "id": "88b1a1a1",
   "metadata": {},
   "outputs": [
    {
     "data": {
      "text/plain": [
       "['checkpoint', 'cp.ckpt.data-00000-of-00001', 'cp.ckpt.index']"
      ]
     },
     "execution_count": 55,
     "metadata": {},
     "output_type": "execute_result"
    }
   ],
   "source": [
    "os.listdir(checkpoint_dir)"
   ]
  },
  {
   "cell_type": "code",
   "execution_count": 56,
   "id": "d0c29e47",
   "metadata": {},
   "outputs": [
    {
     "name": "stdout",
     "output_type": "stream",
     "text": [
      "27/27 - 2s - loss: 5.6404 - accuracy: 0.0128\n",
      "Restored model, accuracy:  1.28%\n"
     ]
    }
   ],
   "source": [
    "# Save the weights\n",
    "model.save_weights('./checkpoints/my_checkpoint')\n",
    "\n",
    "# Create a new model instance\n",
    "model = create_model()\n",
    "\n",
    "# Restore the weights\n",
    "model.load_weights('./checkpoints/my_checkpoint')\n",
    "\n",
    "# Evaluate the model\n",
    "loss, acc = model.evaluate(testing_img, test_labels, verbose=2)\n",
    "print(\"Restored model, accuracy: {:5.2f}%\".format(100 * acc))"
   ]
  },
  {
   "cell_type": "code",
   "execution_count": null,
   "id": "335ced33",
   "metadata": {},
   "outputs": [],
   "source": []
  },
  {
   "cell_type": "code",
   "execution_count": null,
   "id": "6975fbc6",
   "metadata": {},
   "outputs": [],
   "source": []
  },
  {
   "cell_type": "code",
   "execution_count": null,
   "id": "3cd4754a",
   "metadata": {},
   "outputs": [],
   "source": []
  },
  {
   "cell_type": "code",
   "execution_count": null,
   "id": "aca19b2f",
   "metadata": {},
   "outputs": [],
   "source": []
  },
  {
   "cell_type": "code",
   "execution_count": null,
   "id": "89d3ad6b",
   "metadata": {},
   "outputs": [],
   "source": []
  },
  {
   "cell_type": "code",
   "execution_count": null,
   "id": "d239f5be",
   "metadata": {},
   "outputs": [],
   "source": []
  },
  {
   "cell_type": "code",
   "execution_count": null,
   "id": "3b2095fb",
   "metadata": {},
   "outputs": [],
   "source": []
  }
 ],
 "metadata": {
  "kernelspec": {
   "display_name": "Python 3 (ipykernel)",
   "language": "python",
   "name": "python3"
  },
  "language_info": {
   "codemirror_mode": {
    "name": "ipython",
    "version": 3
   },
   "file_extension": ".py",
   "mimetype": "text/x-python",
   "name": "python",
   "nbconvert_exporter": "python",
   "pygments_lexer": "ipython3",
   "version": "3.9.6"
  }
 },
 "nbformat": 4,
 "nbformat_minor": 5
}
