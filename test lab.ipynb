{
 "cells": [
  {
   "cell_type": "code",
   "execution_count": 2,
   "id": "506147a6",
   "metadata": {},
   "outputs": [],
   "source": [
    "import cv2 as cv\n",
    "\n",
    "move_rectangle = False\n",
    "BLUE = [255,0,0]\n",
    "\n",
    "fg = cv.imread('datasetl/form 123.png')\n",
    "bg = cv.imread('datasetl/form 124.png')\n",
    "bgCopy = bg.copy()\n",
    "\n",
    "def mouse(event,x,y,flags,params):\n",
    "    global move_rectangle, BLUE, fg, bg, bgCopy\n",
    "    #draw rectangle where x,y is rectangle center\n",
    "    if event == cv.EVENT_LBUTTONDOWN:\n",
    "        move_rectangle = True\n",
    "\n",
    "    elif event == cv.EVENT_MOUSEMOVE:\n",
    "        bg = bgCopy.copy() #!! your image is reinitialized with initial one\n",
    "        if move_rectangle:\n",
    "            cv.rectangle(bg,(x-int(0.5*cols),y-int(0.5*rows)),\n",
    "            (x+int(0.5*cols),y+int(0.5*rows)),BLUE, -1)\n",
    "\n",
    "    elif event == cv.EVENT_LBUTTONUP:\n",
    "        move_rectangle = False\n",
    "        cv.rectangle(bg,(x-int(0.5*cols),y-int(0.5*rows)),\n",
    "        (x+int(0.5*cols),y+int(0.5*rows)),BLUE, -1)\n",
    "\n",
    "if __name__ == '__main__':\n",
    "    rows, cols = fg.shape[:2]\n",
    "\n",
    "    cv.namedWindow('draw')\n",
    "    cv.setMouseCallback('draw', mouse)\n",
    "\n",
    "    while True:\n",
    "\n",
    "        cv.imshow('draw', bg)\n",
    "        k = cv.waitKey(1)\n",
    "\n",
    "        #waiting for esc to exit\n",
    "        if k == 27 & 0xFF:\n",
    "            break\n",
    "\n",
    "    cv.destroyAllWindows()"
   ]
  },
  {
   "cell_type": "code",
   "execution_count": null,
   "id": "0d1dfbf6",
   "metadata": {},
   "outputs": [],
   "source": []
  }
 ],
 "metadata": {
  "kernelspec": {
   "display_name": "Python 3 (ipykernel)",
   "language": "python",
   "name": "python3"
  },
  "language_info": {
   "codemirror_mode": {
    "name": "ipython",
    "version": 3
   },
   "file_extension": ".py",
   "mimetype": "text/x-python",
   "name": "python",
   "nbconvert_exporter": "python",
   "pygments_lexer": "ipython3",
   "version": "3.9.6"
  }
 },
 "nbformat": 4,
 "nbformat_minor": 5
}
