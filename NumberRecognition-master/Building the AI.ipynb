{
 "cells": [
  {
   "cell_type": "markdown",
   "metadata": {},
   "source": [
    "# Import Libray"
   ]
  },
  {
   "cell_type": "code",
   "execution_count": 1,
   "metadata": {},
   "outputs": [],
   "source": [
    "import keras\n",
    "import matplotlib.pyplot as plt\n",
    "import numpy as np"
   ]
  },
  {
   "cell_type": "code",
   "execution_count": 10,
   "metadata": {},
   "outputs": [],
   "source": [
    "from keras.datasets import mnist\n",
    "from tensorflow import keras"
   ]
  },
  {
   "cell_type": "code",
   "execution_count": 2,
   "metadata": {},
   "outputs": [
    {
     "name": "stdout",
     "output_type": "stream",
     "text": [
      "2.6.0\n"
     ]
    },
    {
     "ename": "AttributeError",
     "evalue": "module 'matplotlib.pyplot' has no attribute '__version__'",
     "output_type": "error",
     "traceback": [
      "\u001b[1;31m---------------------------------------------------------------------------\u001b[0m",
      "\u001b[1;31mAttributeError\u001b[0m                            Traceback (most recent call last)",
      "\u001b[1;32m~\\AppData\\Local\\Temp/ipykernel_1068/162647946.py\u001b[0m in \u001b[0;36m<module>\u001b[1;34m\u001b[0m\n\u001b[0;32m      1\u001b[0m \u001b[0mprint\u001b[0m\u001b[1;33m(\u001b[0m\u001b[0mkeras\u001b[0m\u001b[1;33m.\u001b[0m\u001b[0m__version__\u001b[0m\u001b[1;33m)\u001b[0m\u001b[1;33m\u001b[0m\u001b[1;33m\u001b[0m\u001b[0m\n\u001b[1;32m----> 2\u001b[1;33m \u001b[0mprint\u001b[0m\u001b[1;33m(\u001b[0m\u001b[0mplt\u001b[0m\u001b[1;33m.\u001b[0m\u001b[0m__version__\u001b[0m\u001b[1;33m)\u001b[0m\u001b[1;33m\u001b[0m\u001b[1;33m\u001b[0m\u001b[0m\n\u001b[0m\u001b[0;32m      3\u001b[0m \u001b[0mprint\u001b[0m\u001b[1;33m(\u001b[0m\u001b[0mnp\u001b[0m\u001b[1;33m.\u001b[0m\u001b[0m__version__\u001b[0m\u001b[1;33m)\u001b[0m\u001b[1;33m\u001b[0m\u001b[1;33m\u001b[0m\u001b[0m\n",
      "\u001b[1;31mAttributeError\u001b[0m: module 'matplotlib.pyplot' has no attribute '__version__'"
     ]
    }
   ],
   "source": [
    "print(keras.__version__)\n",
    "print(plt.__version__)\n",
    "print(np.__version__)"
   ]
  },
  {
   "cell_type": "markdown",
   "metadata": {},
   "source": [
    "# Persiapan Data"
   ]
  },
  {
   "cell_type": "code",
   "execution_count": 5,
   "metadata": {},
   "outputs": [],
   "source": [
    "# Data sebesar 11MB akan didownload secara otomatis jika belum pernah sebelumnya\n",
    "data = keras.datasets.mnist\n",
    "(x_train, y_train), (x_test, y_test) = data.load_data()"
   ]
  },
  {
   "cell_type": "code",
   "execution_count": 6,
   "metadata": {},
   "outputs": [
    {
     "data": {
      "text/plain": [
       "array([0, 1, 2, 3, 4, 5, 6, 7, 8, 9], dtype=uint8)"
      ]
     },
     "execution_count": 6,
     "metadata": {},
     "output_type": "execute_result"
    }
   ],
   "source": [
    "# Mendapatkan unique data\n",
    "np.unique(y_train)"
   ]
  },
  {
   "cell_type": "code",
   "execution_count": 7,
   "metadata": {},
   "outputs": [
    {
     "data": {
      "image/png": "[encoded data removed]",
      "text/plain": [
       "<Figure size 432x288 with 1 Axes>"
      ]
     },
     "metadata": {
      "needs_background": "light"
     },
     "output_type": "display_data"
    }
   ],
   "source": [
    "# Menampilkan salah satu data dengan matplotlib\n",
    "plt.imshow(x_train[10],cmap='binary');"
   ]
  },
  {
   "cell_type": "markdown",
   "metadata": {},
   "source": [
    "# Membangun Neural Network"
   ]
  },
  {
   "cell_type": "code",
   "execution_count": 8,
   "metadata": {},
   "outputs": [],
   "source": [
    "model = keras.Sequential([\n",
    "    # Input Layers\n",
    "    keras.layers.Flatten(input_shape=(28,28,)),\n",
    "    \n",
    "    # Hidden Layers\n",
    "    keras.layers.Dense(128,activation='relu'),\n",
    "    keras.layers.Dense(128,activation='relu'),\n",
    "    keras.layers.Dense(128,activation='relu'),\n",
    "    keras.layers.Dense(128,activation='relu'),\n",
    "    keras.layers.Dense(128,activation='relu'),\n",
    "    keras.layers.Dropout(0.5),\n",
    "    \n",
    "    # Output Layers\n",
    "    keras.layers.Dense(10,activation='softmax')\n",
    "])\n",
    "\n",
    "# Input shape merupakan ukuran gambar yaitu 28x28\n",
    "# Untuk output layer 10 unit merupakan jumlah dari unique data"
   ]
  },
  {
   "cell_type": "code",
   "execution_count": 11,
   "metadata": {},
   "outputs": [],
   "source": [
    "# Compile model\n",
    "model.compile(\n",
    "    optimizer = keras.optimizers.Adam(),\n",
    "    loss = keras.losses.SparseCategoricalCrossentropy(),\n",
    "    metrics = ['accuracy']\n",
    ")"
   ]
  },
  {
   "cell_type": "code",
   "execution_count": 12,
   "metadata": {},
   "outputs": [
    {
     "name": "stdout",
     "output_type": "stream",
     "text": [
      "Model: \"sequential\"\n",
      "_________________________________________________________________\n",
      "Layer (type)                 Output Shape              Param #   \n",
      "=================================================================\n",
      "flatten (Flatten)            (None, 784)               0         \n",
      "_________________________________________________________________\n",
      "dense (Dense)                (None, 128)               100480    \n",
      "_________________________________________________________________\n",
      "dense_1 (Dense)              (None, 128)               16512     \n",
      "_________________________________________________________________\n",
      "dense_2 (Dense)              (None, 128)               16512     \n",
      "_________________________________________________________________\n",
      "dense_3 (Dense)              (None, 128)               16512     \n",
      "_________________________________________________________________\n",
      "dense_4 (Dense)              (None, 128)               16512     \n",
      "_________________________________________________________________\n",
      "dropout (Dropout)            (None, 128)               0         \n",
      "_________________________________________________________________\n",
      "dense_5 (Dense)              (None, 10)                1290      \n",
      "=================================================================\n",
      "Total params: 167,818\n",
      "Trainable params: 167,818\n",
      "Non-trainable params: 0\n",
      "_________________________________________________________________\n"
     ]
    }
   ],
   "source": [
    "# Menampilkan informasi model\n",
    "model.summary()"
   ]
  },
  {
   "cell_type": "markdown",
   "metadata": {},
   "source": [
    "# Membuat Earlystopping Function"
   ]
  },
  {
   "cell_type": "code",
   "execution_count": 13,
   "metadata": {},
   "outputs": [],
   "source": [
    "earlystopping = keras.callbacks.EarlyStopping(monitor='loss',patience=3)"
   ]
  },
  {
   "cell_type": "markdown",
   "metadata": {},
   "source": [
    "# Melatih Neural Network"
   ]
  },
  {
   "cell_type": "code",
   "execution_count": 14,
   "metadata": {},
   "outputs": [
    {
     "name": "stdout",
     "output_type": "stream",
     "text": [
      "Epoch 1/50\n",
      "1875/1875 [==============================] - 26s 12ms/step - loss: 0.7545 - accuracy: 0.8348\n",
      "Epoch 2/50\n",
      "1875/1875 [==============================] - 22s 12ms/step - loss: 0.2717 - accuracy: 0.9302\n",
      "Epoch 3/50\n",
      "1875/1875 [==============================] - 23s 12ms/step - loss: 0.2066 - accuracy: 0.9468\n",
      "Epoch 4/50\n",
      "1875/1875 [==============================] - 19s 10ms/step - loss: 0.1792 - accuracy: 0.9559\n",
      "Epoch 5/50\n",
      "1875/1875 [==============================] - 24s 13ms/step - loss: 0.1495 - accuracy: 0.9624\n",
      "Epoch 6/50\n",
      "1875/1875 [==============================] - 21s 11ms/step - loss: 0.1371 - accuracy: 0.96660s - loss: 0.1374 \n",
      "Epoch 7/50\n",
      "1875/1875 [==============================] - 28s 15ms/step - loss: 0.1243 - accuracy: 0.9697\n",
      "Epoch 8/50\n",
      "1875/1875 [==============================] - 28s 15ms/step - loss: 0.1122 - accuracy: 0.97260s - loss: 0.1118 - \n",
      "Epoch 9/50\n",
      "1875/1875 [==============================] - 27s 15ms/step - loss: 0.1126 - accuracy: 0.97300s - loss: 0\n",
      "Epoch 10/50\n",
      "1875/1875 [==============================] - 28s 15ms/step - loss: 0.1018 - accuracy: 0.9749\n",
      "Epoch 11/50\n",
      "1875/1875 [==============================] - 25s 13ms/step - loss: 0.0985 - accuracy: 0.9780\n",
      "Epoch 12/50\n",
      "1875/1875 [==============================] - 32s 17ms/step - loss: 0.0891 - accuracy: 0.97923s - loss: 0 - ETA: 2s - loss: 0.0894  - ETA: 2s - loss: 0.0889 - accuracy - ETA: 2s - loss: 0.0891 - accuracy: 0. - ETA: 2s - loss: 0.0 - ETA: 0s - loss: 0.0891 - accu\n",
      "Epoch 13/50\n",
      "1875/1875 [==============================] - 24s 13ms/step - loss: 0.0857 - accuracy: 0.9807\n",
      "Epoch 14/50\n",
      "1875/1875 [==============================] - 19s 10ms/step - loss: 0.0810 - accuracy: 0.9819\n",
      "Epoch 15/50\n",
      "1875/1875 [==============================] - 19s 10ms/step - loss: 0.0817 - accuracy: 0.98070s - loss: 0.0806 -  - ETA: 0s - loss: 0.081\n",
      "Epoch 16/50\n",
      "1875/1875 [==============================] - 26s 14ms/step - loss: 0.0751 - accuracy: 0.9829\n",
      "Epoch 17/50\n",
      "1875/1875 [==============================] - 25s 13ms/step - loss: 0.0722 - accuracy: 0.98371s - loss: 0.072\n",
      "Epoch 18/50\n",
      "1875/1875 [==============================] - 24s 13ms/step - loss: 0.0781 - accuracy: 0.9819\n",
      "Epoch 19/50\n",
      "1875/1875 [==============================] - 26s 14ms/step - loss: 0.0687 - accuracy: 0.9834\n",
      "Epoch 20/50\n",
      "1875/1875 [==============================] - 23s 12ms/step - loss: 0.0705 - accuracy: 0.9836\n",
      "Epoch 21/50\n",
      "1875/1875 [==============================] - 24s 13ms/step - loss: 0.0678 - accuracy: 0.9839\n",
      "Epoch 22/50\n",
      "1875/1875 [==============================] - 24s 13ms/step - loss: 0.0622 - accuracy: 0.9863\n",
      "Epoch 23/50\n",
      "1875/1875 [==============================] - 24s 13ms/step - loss: 0.0776 - accuracy: 0.9839\n",
      "Epoch 24/50\n",
      "1875/1875 [==============================] - 24s 13ms/step - loss: 0.0808 - accuracy: 0.9846\n",
      "Epoch 25/50\n",
      "1875/1875 [==============================] - 24s 13ms/step - loss: 0.0668 - accuracy: 0.9862\n"
     ]
    }
   ],
   "source": [
    "# Masukan hasil latihan ke dalam variabel history agar dapat dilihat progressnya setelah selesai\n",
    "# Alternatif untuk penggunaan tensorboard\n",
    "history = model.fit(x_train,y_train,verbose=1,epochs=50,batch_size=32,callbacks=[earlystopping])"
   ]
  },
  {
   "cell_type": "code",
   "execution_count": 15,
   "metadata": {},
   "outputs": [
    {
     "data": {
      "image/png": "[encoded data removed]",
      "text/plain": [
       "<Figure size 432x288 with 1 Axes>"
      ]
     },
     "metadata": {
      "needs_background": "light"
     },
     "output_type": "display_data"
    }
   ],
   "source": [
    "# Menampilkan grafik loss per epochs pada saat model berlatih\n",
    "plt.plot(history.history['loss']);\n",
    "plt.title('Grafik Loss pada Training Model')\n",
    "plt.xlabel('Epochs')\n",
    "plt.ylabel('Loss');"
   ]
  },
  {
   "cell_type": "markdown",
   "metadata": {},
   "source": [
    "# Membuat Prediksi"
   ]
  },
  {
   "cell_type": "code",
   "execution_count": null,
   "metadata": {},
   "outputs": [],
   "source": [
    "prediction_confidence = model.predict(x_test)"
   ]
  },
  {
   "cell_type": "code",
   "execution_count": null,
   "metadata": {},
   "outputs": [],
   "source": [
    "prediction_confidence[0]"
   ]
  },
  {
   "cell_type": "code",
   "execution_count": null,
   "metadata": {},
   "outputs": [],
   "source": [
    "prediction = list()\n",
    "for pred in prediction_confidence:\n",
    "    prediction.append(np.argmax(pred))\n",
    "prediction = np.array(prediction)"
   ]
  },
  {
   "cell_type": "code",
   "execution_count": null,
   "metadata": {},
   "outputs": [],
   "source": [
    "plt.imshow(x_test[0])\n",
    "plt.show()"
   ]
  },
  {
   "cell_type": "code",
   "execution_count": null,
   "metadata": {},
   "outputs": [],
   "source": [
    "prediction[0]"
   ]
  },
  {
   "cell_type": "markdown",
   "metadata": {},
   "source": [
    "# Evaluasi Model"
   ]
  },
  {
   "cell_type": "code",
   "execution_count": null,
   "metadata": {},
   "outputs": [],
   "source": [
    "prediction"
   ]
  },
  {
   "cell_type": "code",
   "execution_count": null,
   "metadata": {},
   "outputs": [],
   "source": [
    "y_test"
   ]
  },
  {
   "cell_type": "code",
   "execution_count": null,
   "metadata": {},
   "outputs": [],
   "source": [
    "np.unique([prediction == y_test],return_counts=True)"
   ]
  },
  {
   "cell_type": "code",
   "execution_count": null,
   "metadata": {},
   "outputs": [],
   "source": [
    "# Evaluasi error metrics model\n",
    "def getAkurasi(y_true,y_pred):\n",
    "    prediction_accuracy = [y_true == y_pred]\n",
    "    accuracy_metric = np.unique(prediction_accuracy,return_counts=True)\n",
    "    print(f'Prediksi benar : {accuracy_metric[1][1]}')\n",
    "    print(f'Prediksi salah : {accuracy_metric[1][0]}')\n",
    "    print(f'Akurasi prediksi : {accuracy_metric[1][1] / (accuracy_metric[1][0] + accuracy_metric[1][1]) * 100}')"
   ]
  },
  {
   "cell_type": "code",
   "execution_count": null,
   "metadata": {},
   "outputs": [],
   "source": [
    "getAkurasi(y_test,prediction)"
   ]
  },
  {
   "cell_type": "markdown",
   "metadata": {},
   "source": [
    "# Visualisasi Prediksi"
   ]
  },
  {
   "cell_type": "code",
   "execution_count": null,
   "metadata": {},
   "outputs": [],
   "source": [
    "import random"
   ]
  },
  {
   "cell_type": "code",
   "execution_count": null,
   "metadata": {},
   "outputs": [],
   "source": [
    "prediction_confidence.shape"
   ]
  },
  {
   "cell_type": "code",
   "execution_count": null,
   "metadata": {},
   "outputs": [],
   "source": [
    "def visualisasi(pred_conf,count):\n",
    "    for i in range(count):\n",
    "        index = random.choice(range(10000))\n",
    "        fig,axes = plt.subplots(ncols=2,nrows=1,figsize=(6,3))\n",
    "        axes[0].imshow(x_test[index],cmap='binary')\n",
    "        axes[0].set_title('Actual')\n",
    "        axes[0].axis(False)\n",
    "\n",
    "        axes[1].grid(True)\n",
    "        axes[1].bar(range(10),pred_conf[index]*100)\n",
    "        axes[1].set_title('Prediction With Confidence Level')\n",
    "        axes[1].set_xticks(range(10))\n",
    "        axes[1].set_yticks(range(0,110,10))\n",
    "\n",
    "        plt.tight_layout()\n",
    "        plt.show()"
   ]
  },
  {
   "cell_type": "code",
   "execution_count": null,
   "metadata": {
    "scrolled": false
   },
   "outputs": [],
   "source": [
    "# Visualisasikan 10 prediksi secara acak\n",
    "visualisasi(prediction_confidence,10)"
   ]
  },
  {
   "cell_type": "markdown",
   "metadata": {},
   "source": [
    "# Simpan Model"
   ]
  },
  {
   "cell_type": "code",
   "execution_count": null,
   "metadata": {},
   "outputs": [],
   "source": [
    "model.save('Number Recognizer AI with Keras.h5')"
   ]
  },
  {
   "cell_type": "code",
   "execution_count": 17,
   "metadata": {},
   "outputs": [
    {
     "name": "stdout",
     "output_type": "stream",
     "text": [
      "^C\n"
     ]
    }
   ],
   "source": [
    "! python wsgi.py"
   ]
  },
  {
   "cell_type": "code",
   "execution_count": null,
   "metadata": {},
   "outputs": [],
   "source": []
  }
 ],
 "metadata": {
  "kernelspec": {
   "display_name": "Python 3 (ipykernel)",
   "language": "python",
   "name": "python3"
  },
  "language_info": {
   "codemirror_mode": {
    "name": "ipython",
    "version": 3
   },
   "file_extension": ".py",
   "mimetype": "text/x-python",
   "name": "python",
   "nbconvert_exporter": "python",
   "pygments_lexer": "ipython3",
   "version": "3.9.6"
  }
 },
 "nbformat": 4,
 "nbformat_minor": 4
}
