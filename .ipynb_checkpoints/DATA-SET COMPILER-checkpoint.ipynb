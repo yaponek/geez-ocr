{
 "cells": [
  {
   "cell_type": "markdown",
   "id": "dcaa6875",
   "metadata": {},
   "source": [
    "### The sane way of making compiling custome dataset for the geez-ocr"
   ]
  },
  {
   "cell_type": "code",
   "execution_count": 4,
   "id": "71869512",
   "metadata": {
    "scrolled": true
   },
   "outputs": [],
   "source": [
    "import os\n",
    "import glob\n",
    "import PIL\n",
    "import cv2\n",
    "import numpy as np\n",
    "from matplotlib import pyplot as plt\n",
    "from tqdm import tqdm\n",
    "import random\n",
    "import pathlib\n",
    "import shutil\n",
    "\n",
    "import tensorflow as tf\n",
    "from tensorflow import keras\n",
    "from tensorflow.keras import layers\n",
    "from tensorflow.keras.datasets import cifar10\n",
    "from tensorflow.keras.preprocessing.image import ImageDataGenerator\n",
    "from tensorflow.keras.models import Sequential\n",
    "from tensorflow.keras.layers import Dense, Dropout, Activation, Flatten\n",
    "from tensorflow.keras.layers import Conv2D, MaxPooling2D\n",
    "\n",
    "\n",
    "def view(img):\n",
    "    plt.imshow(img, cmap='gray')\n",
    "    plt.show()\n",
    "    \n",
    "def vShape(var):\n",
    "    print(var.shape)\n",
    "    \n",
    "def fidel(bet):\n",
    "    # this method sort and prepare the geez table for standard use from unicode\n",
    "    deqala1 = ['ቈ','ኈ','ኰ','ዀ','ጐ']\n",
    "    deqala2 = ['ሏ','ሗ','ሟ','ሧ','ሯ','ሷ','ሿ','ቊ','ቧ','ቯ',\n",
    "               'ቷ','ቿ','ኊ','ኗ','ኟ','ኧ','ኲ','ዂ','ዟ','ዧ',\n",
    "               'ዷ','ጇ','ጒ','ጧ','ጯ','ጷ','ጿ','ፏ','ፗ']\n",
    "    deqala3 =['ቋ','ኋ','ኳ','ዃ','ጓ']\n",
    "    deqala4 = ['ቌ','ኌ','ኴ','ዄ','ጔ']\n",
    "    deqala5 = ['ቍ','ኍ','ኵ','ዅ','ጕ']\n",
    "    \n",
    "    i=0;fidel = 4608;fideloch = []\n",
    "    if bet==1: fidel = 4608\n",
    "    elif bet==2: fidel = 4609\n",
    "    elif bet==3: fidel = 4610\n",
    "    elif bet==4: fidel = 4611\n",
    "    elif bet==5: fidel = 4612\n",
    "    elif bet==6: fidel = 4613\n",
    "    elif bet==7: fidel = 4614\n",
    "    elif bet==8: \n",
    "        for word in deqala1: fideloch.append(word)\n",
    "    elif bet==9: \n",
    "        for word in deqala2: fideloch.append(word)\n",
    "    elif bet==10: \n",
    "        for word in deqala3: fideloch.append(word)\n",
    "    elif bet==11: \n",
    "        for word in deqala4: fideloch.append(word)\n",
    "    elif bet==12: \n",
    "        for word in deqala5: fideloch.append(word)\n",
    "            \n",
    "    if bet < 8:\n",
    "        while i<34:\n",
    "            fideloch.append(chr(fidel))\n",
    "            if i==8: fidel = fidel+32\n",
    "            elif i==13 or i==17 or i==24: fidel = fidel+16\n",
    "            elif i==18: fidel = fidel+16\n",
    "            elif i==26: fidel = fidel+24\n",
    "            else: fidel = fidel+8\n",
    "            i=i+1\n",
    "    return fideloch\n",
    "\n",
    "def fidel_form(min_bet, max_bet):\n",
    "    # Declare a list variable witl all the geez laters in ot according to our form standard\n",
    "    fidels = []\n",
    "    for index in range(min_bet,max_bet):\n",
    "        fidels.append(fidel(index))\n",
    "    return fidels\n",
    "#flaten their content\n",
    "def flatten(l):\n",
    "    try:\n",
    "        return flatten(l[0]) + (flatten(l[1:]) if len(l) > 1 else []) if type(l) is list else [l]\n",
    "    except IndexError:\n",
    "        return []\n",
    "\n",
    "def fidel_id(fidel):\n",
    "    # declare the fidel form values\n",
    "    x = fidel_form(1, 13)\n",
    "    # flaten the array into one dimention to make it searchable\n",
    "    laters = flatten(x)\n",
    "    # seek the index and return\n",
    "    return laters.index(fidel)#+1\n",
    "\n",
    "def fidel_name(fidel_id):\n",
    "    # declare the fidel form values\n",
    "    x = fidel_form(1, 13)\n",
    "    # flaten the array into one dimention to make it searchable\n",
    "    laters = flatten(x)\n",
    "    # seek the value and return\n",
    "    return laters[fidel_id]#-1]\n",
    "\n",
    "def file_base_name(path):\n",
    "    return os.path.basename(path).replace('.', ' ')\n",
    "\n",
    "def rename_dataset(path_str):\n",
    "    base_name = file_base_name(path_str) \n",
    "    path_ext = pathlib.Path(path_str).suffix\n",
    "    numbers = [int(word) for word in base_name.split() if word.isdigit()]\n",
    "    return str(fidel_id(base_name[0]))+'_'+str(numbers[0])+path_ext\n",
    "    \n",
    "def populate_to_type(model_type):\n",
    "    # searching script\n",
    "    path1 = \"OCR_dataset\\\\\"+model_type+\"_form\\\\\"\n",
    "    path2 = \"OCR_dataset\\\\\"+model_type+\"\\\\\"\n",
    "    file_names = glob.glob(path1+\"*.png\")\n",
    "    try:\n",
    "        if file_names:\n",
    "            for path in file_names:\n",
    "                file_name = file_base_name(path)\n",
    "                directory = path2+str(fidel_id(file_name[0]))\n",
    "                if (os.path.isdir(directory)):\n",
    "                    shutil.copy(path,directory+'\\\\'+rename_dataset(path))\n",
    "                else:\n",
    "                    pathlib.Path(path2+str(fidel_id(file_name[0]))).mkdir(parents=True, exist_ok=True)\n",
    "                    shutil.copy(path,directory+'\\\\'+rename_dataset(path))\n",
    "    except NameError as e:\n",
    "        print(e)\n",
    "    print('populating compiled! dataset folder is Ready to use!')\n",
    "        \n",
    "\n",
    "# print(laters,len(laters),laters.index('ሀ'),laters[286])\n",
    "# fidel_name(287)\n",
    "# fidel_id('ሀ')"
   ]
  },
  {
   "cell_type": "code",
   "execution_count": 142,
   "id": "940c8dbd",
   "metadata": {},
   "outputs": [
    {
     "name": "stdout",
     "output_type": "stream",
     "text": [
      "populating compiled! dataset folder is Ready to use!\n",
      "populating compiled! dataset folder is Ready to use!\n"
     ]
    }
   ],
   "source": [
    "# populate all the files in the dataset folder to the train and test folder with proper name\n",
    "# populate_to_type('train')\n",
    "# populate_to_type('test')\n"
   ]
  },
  {
   "cell_type": "code",
   "execution_count": 5,
   "id": "54130572",
   "metadata": {},
   "outputs": [
    {
     "name": "stdout",
     "output_type": "stream",
     "text": [
      "LOADING started!\n"
     ]
    },
    {
     "name": "stderr",
     "output_type": "stream",
     "text": [
      "100%|████████████████████████████████████████████████████████████████████████████████| 287/287 [00:20<00:00, 14.00it/s]\n"
     ]
    },
    {
     "name": "stdout",
     "output_type": "stream",
     "text": [
      "LOADING End!\n",
      "LOADING started!\n"
     ]
    },
    {
     "name": "stderr",
     "output_type": "stream",
     "text": [
      "100%|████████████████████████████████████████████████████████████████████████████████| 287/287 [02:24<00:00,  1.99it/s]"
     ]
    },
    {
     "name": "stdout",
     "output_type": "stream",
     "text": [
      "LOADING End!\n"
     ]
    },
    {
     "name": "stderr",
     "output_type": "stream",
     "text": [
      "\n"
     ]
    }
   ],
   "source": [
    "paths = \"OCR_dataset/\"\n",
    "\n",
    "def create_x_data(pathx, type_var):\n",
    "    DATADIR = pathx+type_var\n",
    "    CATEGORIES = range(0, 287)\n",
    "    data = []\n",
    "    \n",
    "    print(type_var+' LOADING started!')\n",
    "    for category in tqdm(CATEGORIES):  # do calases\n",
    "        path = os.path.join(DATADIR,str(category))  # create path to clases\n",
    "        class_num = CATEGORIES.index(category)  # get the classification  (1 - 287).\n",
    "        \n",
    "        for img in os.listdir(path):  # iterate over each image per clases\n",
    "            try:\n",
    "                img_array = cv2.imread(os.path.join(path,img) ,cv2.IMREAD_GRAYSCALE)  # convert to array\n",
    "                new_array = cv2.resize(img_array, (25, 25))  # resize to normalize data size\n",
    "                data.append([new_array, class_num])  # add this to our training_data\n",
    "                #plt.imshow(img_array, cmap='gray')  # graph it\n",
    "                #print(os.path.join(path,img))\n",
    "                #plt.show()  # display!\n",
    "            except Exception as e:  # in the interest in keeping the output clean...\n",
    "                pass\n",
    "    print(type_var+' LOADING End!')\n",
    "    return data\n",
    "\n",
    "test_dataset = create_x_data(paths,'test')\n",
    "train_dataset = create_x_data(paths,'train')"
   ]
  },
  {
   "cell_type": "code",
   "execution_count": 6,
   "id": "97b7ed33",
   "metadata": {},
   "outputs": [
    {
     "name": "stdout",
     "output_type": "stream",
     "text": [
      "861\n",
      "7749\n"
     ]
    }
   ],
   "source": [
    "print(len(test_dataset))\n",
    "print(len(train_dataset))"
   ]
  },
  {
   "cell_type": "code",
   "execution_count": 7,
   "id": "e1f488cd",
   "metadata": {
    "scrolled": true
   },
   "outputs": [
    {
     "name": "stdout",
     "output_type": "stream",
     "text": [
      "[[255 255 255 255 255 254 249 252 254 249 254 255 255 255 255 255 255 255\n",
      "  255 255 255 255 255 255 255]\n",
      " [251 255 251 242 246 239 184 214 229 187 248 239 253 254 242 244 253 246\n",
      "  254 255 255 255 255 255 254]\n",
      " [200 253 235 171 207 179 208 219 212 210 234 180 235 246 219 224 243 158\n",
      "  236 252 247 253 255 255 251]\n",
      " [232 254 225 167 143  83 229 210 222 203 111  53 150 183 223 204 243 202\n",
      "  245 250 242 252 255 255 251]\n",
      " [239 237 201 224 120  40 184 188 241 216  74  32 201 240 238 247 244 172\n",
      "  235 252 253 255 255 255 251]\n",
      " [211 225 187 240 152  89 200 201 243 218  73  45 221 253 224 227 200 229\n",
      "  225 223 249 255 255 255 251]\n",
      " [248 236 189 213  38  48 223 233 238 182  37 104 237 249 186 184 233 250\n",
      "  190 220 218 245 255 255 252]\n",
      " [255 247 221 211  20 108 243 253 229 161  30 187 245 193 216 235 254 254\n",
      "  239 229 182 233 254 255 252]\n",
      " [206 227 190 211  33 136 248 237 157 137  32 195 194 223 147 164 238 253\n",
      "  255 249 241 251 255 255 252]\n",
      " [230 235 175 212  34 123 196 246 219  87  37 203 233 199 211 226 247 211\n",
      "  235 223 250 255 255 255 253]\n",
      " [239 171 222 180  29 120 178 203 242  77  62 219 186 221 250 170 155 220\n",
      "  248 246 251 254 255 255 255]\n",
      " [226 220 254 213  32 120 188 213 180  55  65 223 206 243 251 224 220 248\n",
      "  217 219 202 238 255 255 255]\n",
      " [140 161 235 116  18 121 228 241 143  27 147 214 239 244 175 201 221 244\n",
      "  175 209 213 242 255 255 255]\n",
      " [204 213 242 193  73  36  81  60  29  32 168 200 238 217 216 232 241 236\n",
      "  158 219 247 252 255 255 255]\n",
      " [203 246 234 204 136  36 107  55  84 174 223 223 234 226 252 215 246 200\n",
      "  211 223 235 250 255 255 255]\n",
      " [217 240 191 225 220 202 223 219 232 255 250 206 215 225 250 222 204 164\n",
      "  230 219 188 231 255 255 255]\n",
      " [203 209 220 178 183 253 241 255 253 239 247 222 237 244 236 238 217 140\n",
      "  213 229 224 245 255 255 255]\n",
      " [233 214 236 189 197 251 251 251 199 212 247 175 237 251 188 158 170 200\n",
      "  210 183 233 255 255 255 255]\n",
      " [203 208 213 240 168 153 237 223 204 213 235 171 204 244 227 205 213 238\n",
      "  227 173 220 255 255 255 255]\n",
      " [211 228 241 252 215 193 167 182 178 230 245 233 238 221 248 229 251 182\n",
      "  146 196 233 250 255 255 255]\n",
      " [160 232 174 208 151 243 184 209 186 214 238 247 179 213 199 182 233 217\n",
      "  194 237 249 250 255 255 255]\n",
      " [180 239 196 173 131 229 203 241 235 165 203 233 199 240 224 223 247 255\n",
      "  255 233 243 255 255 255 255]\n",
      " [255 255 254 227 243 253 230 251 252 216 231 245 255 255 255 255 254 254\n",
      "  253 240 248 254 255 255 255]\n",
      " [255 255 254 253 200 242 252 223 237 247 255 255 254 252 252 252 229 242\n",
      "  253 233 228 246 255 255 255]\n",
      " [255 253 231 248 176 235 204 211 239 240 251 252 222 203 195 236 211 231\n",
      "  253 236 234 249 255 255 255]]\n"
     ]
    }
   ],
   "source": [
    "#look at the array of a single image from the dataset\n",
    "print(test_dataset[0][0])"
   ]
  },
  {
   "cell_type": "code",
   "execution_count": 8,
   "id": "1c31393b",
   "metadata": {},
   "outputs": [
    {
     "name": "stdout",
     "output_type": "stream",
     "text": [
      "(25, 25)\n"
     ]
    }
   ],
   "source": [
    "#look at the shape of single image from the dataset to see if it's single channel\n",
    "vShape(test_dataset[0][0])"
   ]
  },
  {
   "cell_type": "code",
   "execution_count": 9,
   "id": "1b3e104c",
   "metadata": {},
   "outputs": [
    {
     "data": {
      "image/png": "[encoded data removed]",
      "text/plain": [
       "<Figure size 432x288 with 1 Axes>"
      ]
     },
     "metadata": {
      "needs_background": "light"
     },
     "output_type": "display_data"
    }
   ],
   "source": [
    "def resize(IMG, IMG_SIZE):\n",
    "    return cv2.resize(IMG, (IMG_SIZE, IMG_SIZE))\n",
    "\n",
    "def shufle_dataset(dataset):\n",
    "    random.shuffle(dataset)\n",
    "    \n",
    "# shufle both dataset\n",
    "shufle_dataset(train_dataset)\n",
    "shufle_dataset(test_dataset)\n",
    "\n",
    "# view the selectes sample image\n",
    "view(resize(train_dataset[0][0],25))"
   ]
  },
  {
   "cell_type": "code",
   "execution_count": 48,
   "id": "a09798d2",
   "metadata": {},
   "outputs": [
    {
     "name": "stdout",
     "output_type": "stream",
     "text": [
      "train dataset sample\n",
      "\n",
      "12\n",
      "36\n",
      "161\n",
      "181\n",
      "200\n",
      "108\n",
      "127\n",
      "119\n",
      "75\n",
      "183\n",
      "\n",
      "\n",
      "test dataset sample\n",
      "\n",
      "233\n",
      "116\n",
      "22\n",
      "194\n",
      "234\n",
      "238\n",
      "172\n",
      "278\n",
      "236\n",
      "262\n"
     ]
    }
   ],
   "source": [
    "def view_sample(dataset, limit):\n",
    "    for sample in dataset[:limit]:\n",
    "        print(sample[1])\n",
    "        \n",
    "# show samole of the shufled dataset's\n",
    "print('train dataset sample\\n')\n",
    "view_sample(train_dataset, 10)\n",
    "print('\\n\\ntest dataset sample\\n')\n",
    "view_sample(test_dataset, 10)"
   ]
  },
  {
   "cell_type": "code",
   "execution_count": 57,
   "id": "3562100a",
   "metadata": {},
   "outputs": [
    {
     "name": "stdout",
     "output_type": "stream",
     "text": [
      "\n",
      "Training image sample\n",
      " Lable:  ኸ\n"
     ]
    },
    {
     "data": {
      "image/png": "[encoded data removed]",
      "text/plain": [
       "<Figure size 432x288 with 1 Axes>"
      ]
     },
     "metadata": {
      "needs_background": "light"
     },
     "output_type": "display_data"
    },
    {
     "name": "stdout",
     "output_type": "stream",
     "text": [
      "\n",
      "Testing image sample\n",
      " Lable:  ፔ\n",
      "WARNING:tensorflow:Unresolved object in checkpoint: (root).optimizer.iter\n",
      "WARNING:tensorflow:Unresolved object in checkpoint: (root).optimizer.beta_1\n",
      "WARNING:tensorflow:Unresolved object in checkpoint: (root).optimizer.beta_2\n",
      "WARNING:tensorflow:Unresolved object in checkpoint: (root).optimizer.decay\n",
      "WARNING:tensorflow:Unresolved object in checkpoint: (root).optimizer.learning_rate\n",
      "WARNING:tensorflow:A checkpoint was restored (e.g. tf.train.Checkpoint.restore or tf.keras.Model.load_weights) but not all checkpointed values were used. See above for specific issues. Use expect_partial() on the load status object, e.g. tf.train.Checkpoint.restore(...).expect_partial(), to silence these warnings, or use assert_consumed() to make the check explicit. See https://www.tensorflow.org/guide/checkpoint#loading_mechanics for details.\n"
     ]
    },
    {
     "data": {
      "image/png": "[encoded data removed]",
      "text/plain": [
       "<Figure size 432x288 with 1 Axes>"
      ]
     },
     "metadata": {
      "needs_background": "light"
     },
     "output_type": "display_data"
    }
   ],
   "source": [
    "def split_img_and_label(dataset):\n",
    "    img = []\n",
    "    lable = []\n",
    "    for features,label in dataset:\n",
    "        img.append(features)\n",
    "        lable.append(label)\n",
    "    return img, lable\n",
    "\n",
    "\n",
    "training_img, training_lable = split_img_and_label(train_dataset)\n",
    "testing_img, testing_lable = split_img_and_label(test_dataset)\n",
    "\n",
    "# index of sample selector\n",
    "IMG_INDEX = 50\n",
    "    \n",
    "print('\\nTraining image sample\\n','Lable: ',fidel_name(training_lable[IMG_INDEX]))\n",
    "view(training_img[IMG_INDEX])\n",
    "    \n",
    "print('\\nTesting image sample\\n','Lable: ',fidel_name(testing_lable[IMG_INDEX]))\n",
    "view(testing_img[IMG_INDEX])"
   ]
  },
  {
   "cell_type": "code",
   "execution_count": 58,
   "id": "d2c3f302",
   "metadata": {},
   "outputs": [
    {
     "name": "stdout",
     "output_type": "stream",
     "text": [
      "Total amount of Training image:  7749 Total amount of Training Lable:  7749\n",
      "Total amount of Testing image:  861 Total amount of Testing Lable:  861\n"
     ]
    }
   ],
   "source": [
    "print('Total amount of Training image: ',len(training_img[:]),'Total amount of Training Lable: ',len(training_lable[:]))\n",
    "print('Total amount of Testing image: ',len(testing_img),'Total amount of Testing Lable: ',len(testing_lable))"
   ]
  },
  {
   "cell_type": "code",
   "execution_count": 59,
   "id": "e34f4c54",
   "metadata": {},
   "outputs": [],
   "source": [
    "def views(image,label):\n",
    "    print(fidel_name(label))\n",
    "    plt.imshow(image)\n",
    "    plt.show()"
   ]
  },
  {
   "cell_type": "code",
   "execution_count": 60,
   "id": "b7af0e4b",
   "metadata": {
    "collapsed": true
   },
   "outputs": [
    {
     "name": "stdout",
     "output_type": "stream",
     "text": [
      "ቸ\n"
     ]
    },
    {
     "data": {
      "image/png": "[encoded data removed]",
      "text/plain": [
       "<Figure size 432x288 with 1 Axes>"
      ]
     },
     "metadata": {
      "needs_background": "light"
     },
     "output_type": "display_data"
    },
    {
     "name": "stdout",
     "output_type": "stream",
     "text": [
      "[233, 116, 22, 194, 234, 238, 172, 278, 236, 262, 115, 21, 27, 67, 102, 174, 43, 211, 126, 250, 49, 215, 153, 280, 155, 280, 146, 114, 219, 229, 214, 252, 12, 231, 209, 235, 189, 101, 44, 245, 166, 28, 236, 59, 153, 26, 129, 76, 44, 201, 169, 77, 281, 66, 105, 61, 98, 51, 197, 281, 78, 46, 183, 266, 6, 79, 118, 47, 112, 277, 273, 265, 186, 59, 179, 62, 19, 284, 184, 43, 223, 230, 198, 3, 135, 70, 136, 36, 144, 192, 3, 101, 97, 23, 161, 32, 32, 75, 226, 175, 5, 149, 180, 191, 242, 159, 235, 173, 261, 54, 188, 247, 45, 267, 126, 147, 190, 143, 67, 0, 213, 258, 189, 70, 4, 142, 231, 34, 215, 184, 146, 11, 128, 149, 121, 37, 35, 106, 193, 38, 194, 216, 83, 168, 116, 167, 238, 114, 260, 20, 282, 141, 15, 230, 70, 18, 172, 39, 269, 84, 215, 168, 188, 201, 219, 71, 281, 136, 21, 241, 1, 199, 226, 124, 125, 19, 90, 109, 207, 160, 225, 106, 0, 84, 83, 26, 25, 94, 89, 209, 271, 96, 34, 164, 133, 119, 207, 219, 24, 167, 152, 216, 120, 211, 109, 139, 64, 129, 205, 244, 71, 94, 226, 62, 230, 104, 239, 120, 182, 157, 93, 33, 227, 251, 108, 65, 185, 169, 258, 214, 133, 160, 217, 7, 259, 41, 195, 76, 53, 117, 249, 206, 227, 177, 187, 127, 106, 86, 11, 175, 195, 213, 265, 63, 171, 263, 154, 202, 138, 77, 199, 72, 87, 208, 113, 141, 115, 25, 123, 183, 43, 268, 66, 257, 111, 243, 216, 128, 40, 9, 95, 121, 171, 41, 272, 178, 239, 22, 156, 131, 8, 251, 200, 283, 4, 212, 71, 222, 149, 30, 156, 56, 269, 186, 173, 229, 212, 92, 126, 275, 224, 81, 12, 217, 179, 221, 180, 137, 237, 248, 145, 259, 81, 95, 140, 284, 271, 194, 158, 188, 264, 268, 175, 27, 255, 222, 222, 204, 144, 103, 125, 90, 163, 79, 3, 258, 24, 35, 237, 283, 178, 17, 170, 143, 81, 73, 50, 73, 98, 244, 144, 119, 268, 275, 14, 244, 74, 55, 241, 264, 1, 159, 247, 210, 252, 274, 46, 74, 97, 44, 112, 56, 262, 7, 73, 272, 177, 99, 157, 72, 96, 273, 167, 171, 122, 117, 120, 102, 86, 87, 109, 4, 24, 210, 49, 54, 261, 214, 134, 39, 93, 225, 247, 64, 94, 54, 277, 251, 111, 116, 260, 223, 234, 47, 20, 193, 145, 15, 16, 62, 225, 198, 123, 270, 223, 91, 17, 87, 274, 156, 148, 196, 142, 263, 137, 213, 157, 263, 208, 197, 103, 14, 113, 25, 246, 84, 197, 13, 235, 2, 17, 147, 154, 57, 134, 92, 240, 198, 199, 0, 110, 50, 177, 248, 41, 29, 52, 286, 102, 270, 155, 270, 130, 77, 231, 210, 100, 79, 243, 64, 58, 262, 18, 131, 233, 35, 58, 103, 30, 142, 256, 68, 123, 205, 18, 57, 19, 15, 224, 245, 108, 100, 36, 42, 124, 239, 76, 88, 39, 74, 91, 162, 8, 61, 104, 152, 118, 278, 253, 234, 233, 105, 61, 86, 59, 204, 26, 100, 38, 205, 193, 27, 180, 283, 57, 138, 128, 267, 158, 82, 80, 92, 155, 51, 9, 46, 220, 48, 65, 48, 85, 176, 140, 260, 60, 164, 237, 249, 53, 135, 201, 228, 275, 227, 242, 150, 252, 253, 80, 107, 154, 34, 10, 117, 280, 238, 148, 257, 98, 80, 253, 129, 232, 150, 250, 159, 273, 255, 196, 99, 190, 10, 218, 49, 182, 93, 133, 207, 162, 119, 67, 58, 165, 14, 7, 285, 52, 137, 245, 83, 113, 200, 203, 161, 246, 47, 91, 166, 203, 274, 72, 176, 191, 160, 181, 20, 153, 165, 141, 266, 196, 208, 203, 212, 228, 5, 179, 53, 30, 148, 176, 28, 184, 45, 42, 192, 190, 130, 241, 220, 69, 95, 232, 63, 112, 248, 182, 232, 172, 186, 282, 246, 13, 261, 131, 40, 8, 254, 204, 187, 276, 28, 147, 78, 189, 97, 209, 202, 60, 146, 134, 183, 108, 21, 143, 42, 16, 185, 256, 192, 89, 69, 236, 33, 271, 220, 145, 269, 276, 174, 277, 23, 202, 32, 9, 254, 82, 63, 51, 282, 50, 174, 173, 107, 40, 170, 11, 132, 31, 206, 52, 254, 200, 118, 168, 85, 166, 88, 69, 185, 162, 38, 217, 256, 23, 111, 243, 139, 122, 138, 135, 75, 163, 170, 121, 22, 279, 139, 2, 132, 96, 249, 55, 127, 114, 104, 264, 110, 48, 151, 257, 206, 228, 211, 151, 267, 75, 218, 181, 285, 29, 240, 266, 33, 31, 284, 278, 1, 16, 165, 150, 195, 107, 31, 36, 13, 60, 68, 224, 82, 221, 265, 105, 229, 259, 56, 2, 286, 37, 140, 276, 12, 279, 65, 6, 240, 115, 29, 151, 187, 242, 136, 169, 45, 66, 88, 152, 85, 255, 286, 221, 285, 124, 122, 164, 178, 191, 125, 101, 218, 68, 6, 161, 250, 127, 132, 272, 90, 10, 110, 55, 99, 89, 158, 130, 181, 5, 37, 279, 78, 163]\n"
     ]
    }
   ],
   "source": [
    "# (train_images, train_labels), (test_images, test_labels) = tf.keras.datasets.mnist.load_data()\n",
    "\n",
    "train_labels = training_lable[:]\n",
    "test_labels = testing_lable[:]\n",
    "\n",
    "views(training_img[0],train_labels[0])\n",
    "\n",
    "print(test_labels[:])\n",
    "\n",
    "# train_images = training_img[:3444].reshape(-1, 25 * 25) / 255.0\n",
    "# test_images = testing_img[:574].reshape(-1, 28 * 28) / 255.0\n",
    "\n",
    "training_img = np.array(training_img[:]).reshape(-1, 25* 25) / 255.0\n",
    "testing_img = np.array(testing_img[:]).reshape(-1, 25* 25) / 255.0"
   ]
  },
  {
   "cell_type": "code",
   "execution_count": 77,
   "id": "54d53e9f",
   "metadata": {},
   "outputs": [
    {
     "name": "stdout",
     "output_type": "stream",
     "text": [
      "7749\n",
      "108\n",
      "ሳ\n"
     ]
    },
    {
     "data": {
      "image/png": "[encoded data removed]",
      "text/plain": [
       "<Figure size 432x288 with 1 Axes>"
      ]
     },
     "metadata": {
      "needs_background": "light"
     },
     "output_type": "display_data"
    }
   ],
   "source": [
    "print(len(training_img))\n",
    "# print(training_img[0],'\\n')\n",
    "# print(training_img)\n",
    "index = 5\n",
    "print(train_labels[index])\n",
    "print(fidel_name(train_labels[index]))\n",
    "x = training_img[index]*255\n",
    "view(np.array(x).reshape(25, 25))"
   ]
  },
  {
   "cell_type": "code",
   "execution_count": 81,
   "id": "ab40fc20",
   "metadata": {},
   "outputs": [
    {
     "name": "stdout",
     "output_type": "stream",
     "text": [
      "Model: \"sequential_12\"\n",
      "_________________________________________________________________\n",
      "Layer (type)                 Output Shape              Param #   \n",
      "=================================================================\n",
      "dense_37 (Dense)             (None, 16000)             10016000  \n",
      "_________________________________________________________________\n",
      "dense_38 (Dense)             (None, 3200)              51203200  \n",
      "_________________________________________________________________\n",
      "dense_39 (Dense)             (None, 287)               918687    \n",
      "=================================================================\n",
      "Total params: 62,137,887\n",
      "Trainable params: 62,137,887\n",
      "Non-trainable params: 0\n",
      "_________________________________________________________________\n"
     ]
    }
   ],
   "source": [
    "# Define a simple sequential model\n",
    "def create_model():\n",
    "    model = tf.keras.models.Sequential([\n",
    "        keras.layers.Dense(16000, input_shape=(625,), activation='relu'),\n",
    "        keras.layers.Dense(3200, activation='relu'),\n",
    "        keras.layers.Dense(287, activation = 'softmax')\n",
    "    ])\n",
    "\n",
    "    model.compile(optimizer='adam', #loss='mean_squared_error'\n",
    "                  loss=tf.losses.SparseCategoricalCrossentropy(),#from_logits=True),\n",
    "                  metrics=[tf.metrics.SparseCategoricalAccuracy()])\n",
    "    return model\n",
    "\n",
    "# Create a basic model instance\n",
    "model = create_model()\n",
    "\n",
    "# Display the model's architecture\n",
    "model.summary()"
   ]
  },
  {
   "cell_type": "code",
   "execution_count": null,
   "id": "729222e8",
   "metadata": {},
   "outputs": [
    {
     "name": "stdout",
     "output_type": "stream",
     "text": [
      "Epoch 1/4\n",
      "196/243 [=======================>......] - ETA: 1:21 - loss: 17.6338 - sparse_categorical_accuracy: 0.0043"
     ]
    }
   ],
   "source": [
    "checkpoint_path = \"training_1/cp.ckpt\"\n",
    "checkpoint_dir = os.path.dirname(checkpoint_path)\n",
    "\n",
    "# Create a callback that saves the model's weights\n",
    "cp_callback = tf.keras.callbacks.ModelCheckpoint(filepath=checkpoint_path,\n",
    "                                                 save_weights_only=True,\n",
    "                                                 verbose=1)\n",
    "training_img = np.array(training_img)\n",
    "train_labels = np.array(train_labels)\n",
    "testing_img = np.array(testing_img)\n",
    "test_labels = np.array(test_labels)\n",
    "# Train the model with the new callback\n",
    "model.fit(training_img, \n",
    "          train_labels,  \n",
    "          epochs=4,\n",
    "          validation_data=(testing_img, test_labels),\n",
    "          callbacks=[cp_callback])  # Pass callback to training\n",
    "\n",
    "# This may generate warnings related to saving the state of the optimizer.\n",
    "# These warnings (and similar warnings throughout this notebook)\n",
    "# are in place to discourage outdated usage, and can be ignored."
   ]
  },
  {
   "cell_type": "code",
   "execution_count": 26,
   "id": "88b1a1a1",
   "metadata": {},
   "outputs": [
    {
     "data": {
      "text/plain": [
       "['checkpoint', 'cp.ckpt.data-00000-of-00001', 'cp.ckpt.index']"
      ]
     },
     "execution_count": 26,
     "metadata": {},
     "output_type": "execute_result"
    }
   ],
   "source": [
    "os.listdir(checkpoint_dir)"
   ]
  },
  {
   "cell_type": "code",
   "execution_count": 27,
   "id": "d0c29e47",
   "metadata": {},
   "outputs": [
    {
     "name": "stdout",
     "output_type": "stream",
     "text": [
      "27/27 - 1s - loss: 17.3633 - accuracy: 0.0035\n",
      "Restored model, accuracy:  0.35%\n"
     ]
    }
   ],
   "source": [
    "# Save the weights\n",
    "model.save_weights('./checkpoints/my_checkpoint')\n",
    "\n",
    "# Create a new model instance\n",
    "model = create_model()\n",
    "\n",
    "# Restore the weights\n",
    "model.load_weights('./checkpoints/my_checkpoint')\n",
    "\n",
    "# Evaluate the model\n",
    "loss, acc = model.evaluate(testing_img, test_labels, verbose=2)\n",
    "print(\"Restored model, accuracy: {:5.2f}%\".format(100 * acc))"
   ]
  },
  {
   "cell_type": "code",
   "execution_count": null,
   "id": "335ced33",
   "metadata": {},
   "outputs": [],
   "source": []
  },
  {
   "cell_type": "code",
   "execution_count": null,
   "id": "6975fbc6",
   "metadata": {},
   "outputs": [],
   "source": []
  },
  {
   "cell_type": "code",
   "execution_count": null,
   "id": "3cd4754a",
   "metadata": {},
   "outputs": [],
   "source": []
  },
  {
   "cell_type": "code",
   "execution_count": null,
   "id": "aca19b2f",
   "metadata": {},
   "outputs": [],
   "source": []
  },
  {
   "cell_type": "code",
   "execution_count": null,
   "id": "89d3ad6b",
   "metadata": {},
   "outputs": [],
   "source": []
  },
  {
   "cell_type": "code",
   "execution_count": null,
   "id": "d239f5be",
   "metadata": {},
   "outputs": [],
   "source": []
  },
  {
   "cell_type": "code",
   "execution_count": null,
   "id": "3b2095fb",
   "metadata": {},
   "outputs": [],
   "source": []
  }
 ],
 "metadata": {
  "kernelspec": {
   "display_name": "Python 3 (ipykernel)",
   "language": "python",
   "name": "python3"
  },
  "language_info": {
   "codemirror_mode": {
    "name": "ipython",
    "version": 3
   },
   "file_extension": ".py",
   "mimetype": "text/x-python",
   "name": "python",
   "nbconvert_exporter": "python",
   "pygments_lexer": "ipython3",
   "version": "3.9.6"
  }
 },
 "nbformat": 4,
 "nbformat_minor": 5
}
